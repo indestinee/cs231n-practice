{
 "cells": [
  {
   "cell_type": "markdown",
   "metadata": {},
   "source": [
    "# Softmax exercise\n",
    "\n",
    "*Complete and hand in this completed worksheet (including its outputs and any supporting code outside of the worksheet) with your assignment submission. For more details see the [assignments page](http://vision.stanford.edu/teaching/cs231n/assignments.html) on the course website.*\n",
    "\n",
    "This exercise is analogous to the SVM exercise. You will:\n",
    "\n",
    "- implement a fully-vectorized **loss function** for the Softmax classifier\n",
    "- implement the fully-vectorized expression for its **analytic gradient**\n",
    "- **check your implementation** with numerical gradient\n",
    "- use a validation set to **tune the learning rate and regularization** strength\n",
    "- **optimize** the loss function with **SGD**\n",
    "- **visualize** the final learned weights\n"
   ]
  },
  {
   "cell_type": "code",
   "execution_count": 1,
   "metadata": {},
   "outputs": [],
   "source": [
    "import random\n",
    "import numpy as np\n",
    "from cs231n.data_utils import load_CIFAR10\n",
    "import matplotlib.pyplot as plt\n",
    "\n",
    "from __future__ import print_function\n",
    "\n",
    "%matplotlib inline\n",
    "plt.rcParams['figure.figsize'] = (10.0, 8.0) # set default size of plots\n",
    "plt.rcParams['image.interpolation'] = 'nearest'\n",
    "plt.rcParams['image.cmap'] = 'gray'\n",
    "\n",
    "# for auto-reloading extenrnal modules\n",
    "# see http://stackoverflow.com/questions/1907993/autoreload-of-modules-in-ipython\n",
    "%load_ext autoreload\n",
    "%autoreload 2"
   ]
  },
  {
   "cell_type": "code",
   "execution_count": 2,
   "metadata": {},
   "outputs": [
    {
     "name": "stdout",
     "output_type": "stream",
     "text": [
      "Train data shape:  (49000, 3073)\n",
      "Train labels shape:  (49000,)\n",
      "Validation data shape:  (1000, 3073)\n",
      "Validation labels shape:  (1000,)\n",
      "Test data shape:  (1000, 3073)\n",
      "Test labels shape:  (1000,)\n",
      "dev data shape:  (500, 3073)\n",
      "dev labels shape:  (500,)\n"
     ]
    }
   ],
   "source": [
    "def get_CIFAR10_data(num_training=49000, num_validation=1000, num_test=1000, num_dev=500):\n",
    "    \"\"\"\n",
    "    Load the CIFAR-10 dataset from disk and perform preprocessing to prepare\n",
    "    it for the linear classifier. These are the same steps as we used for the\n",
    "    SVM, but condensed to a single function.  \n",
    "    \"\"\"\n",
    "    # Load the raw CIFAR-10 data\n",
    "    cifar10_dir = 'cs231n/datasets/cifar-10-batches-py'\n",
    "    \n",
    "    X_train, y_train, X_test, y_test = load_CIFAR10(cifar10_dir)\n",
    "    \n",
    "    # subsample the data\n",
    "    mask = list(range(num_training, num_training + num_validation))\n",
    "    X_val = X_train[mask]\n",
    "    y_val = y_train[mask]\n",
    "    mask = list(range(num_training))\n",
    "    X_train = X_train[mask]\n",
    "    y_train = y_train[mask]\n",
    "    mask = list(range(num_test))\n",
    "    X_test = X_test[mask]\n",
    "    y_test = y_test[mask]\n",
    "    mask = np.random.choice(num_training, num_dev, replace=False)\n",
    "    X_dev = X_train[mask]\n",
    "    y_dev = y_train[mask]\n",
    "    \n",
    "    # Preprocessing: reshape the image data into rows\n",
    "    X_train = np.reshape(X_train, (X_train.shape[0], -1))\n",
    "    X_val = np.reshape(X_val, (X_val.shape[0], -1))\n",
    "    X_test = np.reshape(X_test, (X_test.shape[0], -1))\n",
    "    X_dev = np.reshape(X_dev, (X_dev.shape[0], -1))\n",
    "    \n",
    "    # Normalize the data: subtract the mean image\n",
    "    mean_image = np.mean(X_train, axis = 0)\n",
    "    X_train -= mean_image\n",
    "    X_val -= mean_image\n",
    "    X_test -= mean_image\n",
    "    X_dev -= mean_image\n",
    "    \n",
    "    # add bias dimension and transform into columns\n",
    "    X_train = np.hstack([X_train, np.ones((X_train.shape[0], 1))])\n",
    "    X_val = np.hstack([X_val, np.ones((X_val.shape[0], 1))])\n",
    "    X_test = np.hstack([X_test, np.ones((X_test.shape[0], 1))])\n",
    "    X_dev = np.hstack([X_dev, np.ones((X_dev.shape[0], 1))])\n",
    "    \n",
    "    return X_train, y_train, X_val, y_val, X_test, y_test, X_dev, y_dev\n",
    "\n",
    "\n",
    "# Cleaning up variables to prevent loading data multiple times (which may cause memory issue)\n",
    "try:\n",
    "   del X_train, y_train\n",
    "   del X_test, y_test\n",
    "   print('Clear previously loaded data.')\n",
    "except:\n",
    "   pass\n",
    "\n",
    "# Invoke the above function to get our data.\n",
    "X_train, y_train, X_val, y_val, X_test, y_test, X_dev, y_dev = get_CIFAR10_data()\n",
    "print('Train data shape: ', X_train.shape)\n",
    "print('Train labels shape: ', y_train.shape)\n",
    "print('Validation data shape: ', X_val.shape)\n",
    "print('Validation labels shape: ', y_val.shape)\n",
    "print('Test data shape: ', X_test.shape)\n",
    "print('Test labels shape: ', y_test.shape)\n",
    "print('dev data shape: ', X_dev.shape)\n",
    "print('dev labels shape: ', y_dev.shape)"
   ]
  },
  {
   "cell_type": "markdown",
   "metadata": {},
   "source": [
    "## Softmax Classifier\n",
    "\n",
    "Your code for this section will all be written inside **cs231n/classifiers/softmax.py**. \n"
   ]
  },
  {
   "cell_type": "code",
   "execution_count": 37,
   "metadata": {},
   "outputs": [
    {
     "name": "stdout",
     "output_type": "stream",
     "text": [
      "loss: 2.340961\n",
      "sanity check: 2.302585\n"
     ]
    }
   ],
   "source": [
    "# First implement the naive softmax loss function with nested loops.\n",
    "# Open the file cs231n/classifiers/softmax.py and implement the\n",
    "# softmax_loss_naive function.\n",
    "\n",
    "from cs231n.classifiers.softmax import softmax_loss_naive\n",
    "import time\n",
    "\n",
    "# Generate a random softmax weight matrix and use it to compute the loss.\n",
    "W = np.random.randn(3073, 10) * 0.0001\n",
    "loss, grad = softmax_loss_naive(W, X_dev, y_dev, 0.0)\n",
    "\n",
    "# As a rough sanity check, our loss should be something close to -log(0.1).\n",
    "print('loss: %f' % loss)\n",
    "print('sanity check: %f' % (-np.log(0.1)))"
   ]
  },
  {
   "cell_type": "markdown",
   "metadata": {},
   "source": [
    "## Inline Question 1:\n",
    "Why do we expect our loss to be close to -log(0.1)? Explain briefly.**\n",
    "\n",
    "**Your answer:** *Fill this in*  \n",
    "in the beginning, the value of Ws are small, so the results of softmax are nearly the same, each label has nearly the same possibility, which is 1/10, so the loss is -log(1/10).\n"
   ]
  },
  {
   "cell_type": "code",
   "execution_count": 59,
   "metadata": {},
   "outputs": [
    {
     "name": "stdout",
     "output_type": "stream",
     "text": [
      "numerical: 0.142489 analytic: 0.142489, relative error: 7.440708e-08\n",
      "numerical: -0.970293 analytic: -0.970293, relative error: 6.952632e-09\n",
      "numerical: -1.154611 analytic: -1.154611, relative error: 6.291665e-09\n",
      "numerical: -0.480857 analytic: -0.480857, relative error: 5.375321e-08\n",
      "numerical: -0.595575 analytic: -0.595575, relative error: 4.424538e-08\n",
      "numerical: -2.410773 analytic: -2.410773, relative error: 3.078607e-09\n",
      "numerical: -2.430877 analytic: -2.430877, relative error: 4.667363e-09\n",
      "numerical: -1.585461 analytic: -1.585461, relative error: 3.168390e-11\n",
      "numerical: -0.528655 analytic: -0.528655, relative error: 1.251924e-07\n",
      "numerical: -1.002984 analytic: -1.002984, relative error: 1.573873e-08\n",
      "numerical: -0.415184 analytic: -0.415184, relative error: 1.914513e-09\n",
      "numerical: -0.000846 analytic: -0.000846, relative error: 3.491306e-05\n",
      "numerical: 0.458274 analytic: 0.458274, relative error: 6.236130e-08\n",
      "numerical: 1.635153 analytic: 1.635153, relative error: 2.566436e-08\n",
      "numerical: 0.425052 analytic: 0.425052, relative error: 1.645006e-07\n",
      "numerical: -3.800833 analytic: -3.800833, relative error: 1.686710e-08\n",
      "numerical: 0.205202 analytic: 0.205202, relative error: 9.314570e-08\n",
      "numerical: 3.408778 analytic: 3.408778, relative error: 2.273981e-08\n",
      "numerical: -0.716938 analytic: -0.716938, relative error: 2.585935e-08\n",
      "numerical: 2.571010 analytic: 2.571010, relative error: 4.008908e-08\n"
     ]
    }
   ],
   "source": [
    "# Complete the implementation of softmax_loss_naive and implement a (naive)\n",
    "# version of the gradient that uses nested loops.\n",
    "loss, grad = softmax_loss_naive(W, X_dev, y_dev, 0.0)\n",
    "\n",
    "# As we did for the SVM, use numeric gradient checking as a debugging tool.\n",
    "# The numeric gradient should be close to the analytic gradient.\n",
    "from cs231n.gradient_check import grad_check_sparse\n",
    "f = lambda w: softmax_loss_naive(w, X_dev, y_dev, 0.0)[0]\n",
    "grad_numerical = grad_check_sparse(f, W, grad, 10)\n",
    "\n",
    "# similar to SVM case, do another gradient check with regularization\n",
    "loss, grad = softmax_loss_naive(W, X_dev, y_dev, 5e1)\n",
    "f = lambda w: softmax_loss_naive(w, X_dev, y_dev, 5e1)[0]\n",
    "grad_numerical = grad_check_sparse(f, W, grad, 10)"
   ]
  },
  {
   "cell_type": "code",
   "execution_count": 61,
   "metadata": {},
   "outputs": [
    {
     "name": "stdout",
     "output_type": "stream",
     "text": [
      "naive loss: 2.340961e+00 computed in 0.007930s\n",
      "vectorized loss: 2.340961e+00 computed in 0.008121s\n",
      "Loss difference: 0.000000\n",
      "Gradient difference: 0.000000\n"
     ]
    }
   ],
   "source": [
    "# Now that we have a naive implementation of the softmax loss function and its gradient,\n",
    "# implement a vectorized version in softmax_loss_vectorized.\n",
    "# The two versions should compute the same results, but the vectorized version should be\n",
    "# much faster.\n",
    "tic = time.time()\n",
    "loss_naive, grad_naive = softmax_loss_naive(W, X_dev, y_dev, 0.000005)\n",
    "toc = time.time()\n",
    "print('naive loss: %e computed in %fs' % (loss_naive, toc - tic))\n",
    "\n",
    "from cs231n.classifiers.softmax import softmax_loss_vectorized\n",
    "tic = time.time()\n",
    "loss_vectorized, grad_vectorized = softmax_loss_vectorized(W, X_dev, y_dev, 0.000005)\n",
    "toc = time.time()\n",
    "print('vectorized loss: %e computed in %fs' % (loss_vectorized, toc - tic))\n",
    "\n",
    "# As we did for the SVM, we use the Frobenius norm to compare the two versions\n",
    "# of the gradient.\n",
    "grad_difference = np.linalg.norm(grad_naive - grad_vectorized, ord='fro')\n",
    "print('Loss difference: %f' % np.abs(loss_naive - loss_vectorized))\n",
    "print('Gradient difference: %f' % grad_difference)"
   ]
  },
  {
   "cell_type": "code",
   "execution_count": 63,
   "metadata": {},
   "outputs": [
    {
     "name": "stdout",
     "output_type": "stream",
     "text": [
      "iteration 0 / 2000: loss 785.205921\n",
      "iteration 100 / 2000: loss 288.190933\n",
      "iteration 200 / 2000: loss 106.683726\n",
      "iteration 300 / 2000: loss 40.437386\n",
      "iteration 400 / 2000: loss 16.163842\n",
      "iteration 500 / 2000: loss 7.238083\n",
      "iteration 600 / 2000: loss 4.001973\n",
      "iteration 700 / 2000: loss 2.780388\n",
      "iteration 800 / 2000: loss 2.325898\n",
      "iteration 900 / 2000: loss 2.191373\n",
      "iteration 1000 / 2000: loss 2.148659\n",
      "iteration 1100 / 2000: loss 2.089539\n",
      "iteration 1200 / 2000: loss 2.153525\n",
      "iteration 1300 / 2000: loss 2.144975\n",
      "iteration 1400 / 2000: loss 2.052942\n",
      "iteration 1500 / 2000: loss 2.099045\n",
      "iteration 1600 / 2000: loss 2.077393\n",
      "iteration 1700 / 2000: loss 2.116239\n",
      "iteration 1800 / 2000: loss 2.051416\n",
      "iteration 1900 / 2000: loss 2.080832\n",
      "iteration 0 / 2000: loss 1547.293121\n",
      "iteration 100 / 2000: loss 208.294203\n",
      "iteration 200 / 2000: loss 29.717522\n",
      "iteration 300 / 2000: loss 5.856535\n",
      "iteration 400 / 2000: loss 2.619705\n",
      "iteration 500 / 2000: loss 2.208588\n",
      "iteration 600 / 2000: loss 2.197544\n",
      "iteration 700 / 2000: loss 2.104733\n",
      "iteration 800 / 2000: loss 2.152205\n",
      "iteration 900 / 2000: loss 2.162098\n",
      "iteration 1000 / 2000: loss 2.168377\n",
      "iteration 1100 / 2000: loss 2.097384\n",
      "iteration 1200 / 2000: loss 2.131444\n",
      "iteration 1300 / 2000: loss 2.163993\n",
      "iteration 1400 / 2000: loss 2.135866\n",
      "iteration 1500 / 2000: loss 2.179201\n",
      "iteration 1600 / 2000: loss 2.169884\n",
      "iteration 1700 / 2000: loss 2.133244\n",
      "iteration 1800 / 2000: loss 2.130303\n",
      "iteration 1900 / 2000: loss 2.165750\n",
      "iteration 0 / 2000: loss 773.538033\n",
      "iteration 100 / 2000: loss 6.886678\n",
      "iteration 200 / 2000: loss 2.098596\n",
      "iteration 300 / 2000: loss 2.029595\n",
      "iteration 400 / 2000: loss 2.068055\n",
      "iteration 500 / 2000: loss 2.100034\n",
      "iteration 600 / 2000: loss 2.164364\n",
      "iteration 700 / 2000: loss 2.075485\n",
      "iteration 800 / 2000: loss 2.079127\n",
      "iteration 900 / 2000: loss 2.121970\n",
      "iteration 1000 / 2000: loss 2.083957\n",
      "iteration 1100 / 2000: loss 2.129201\n",
      "iteration 1200 / 2000: loss 2.068831\n",
      "iteration 1300 / 2000: loss 2.132880\n",
      "iteration 1400 / 2000: loss 2.159073\n",
      "iteration 1500 / 2000: loss 2.089781\n",
      "iteration 1600 / 2000: loss 2.061436\n",
      "iteration 1700 / 2000: loss 2.087898\n",
      "iteration 1800 / 2000: loss 2.075732\n",
      "iteration 1900 / 2000: loss 2.067204\n",
      "iteration 0 / 2000: loss 1546.644195\n",
      "iteration 100 / 2000: loss 2.233367\n",
      "iteration 200 / 2000: loss 2.158911\n",
      "iteration 300 / 2000: loss 2.135677\n",
      "iteration 400 / 2000: loss 2.156995\n",
      "iteration 500 / 2000: loss 2.150215\n",
      "iteration 600 / 2000: loss 2.152275\n",
      "iteration 700 / 2000: loss 2.173036\n",
      "iteration 800 / 2000: loss 2.180525\n",
      "iteration 900 / 2000: loss 2.100957\n",
      "iteration 1000 / 2000: loss 2.148333\n",
      "iteration 1100 / 2000: loss 2.149841\n",
      "iteration 1200 / 2000: loss 2.125500\n",
      "iteration 1300 / 2000: loss 2.097907\n",
      "iteration 1400 / 2000: loss 2.175563\n",
      "iteration 1500 / 2000: loss 2.103770\n",
      "iteration 1600 / 2000: loss 2.143142\n",
      "iteration 1700 / 2000: loss 2.178048\n",
      "iteration 1800 / 2000: loss 2.137884\n",
      "iteration 1900 / 2000: loss 2.141773\n",
      "lr 1.000000e-07 reg 2.500000e+04 train accuracy: 0.330449 val accuracy: 0.347000\n",
      "lr 1.000000e-07 reg 5.000000e+04 train accuracy: 0.307184 val accuracy: 0.321000\n",
      "lr 5.000000e-07 reg 2.500000e+04 train accuracy: 0.314510 val accuracy: 0.324000\n",
      "lr 5.000000e-07 reg 5.000000e+04 train accuracy: 0.303857 val accuracy: 0.336000\n",
      "best validation accuracy achieved during cross-validation: 0.347000\n"
     ]
    }
   ],
   "source": [
    "# Use the validation set to tune hyperparameters (regularization strength and\n",
    "# learning rate). You should experiment with different ranges for the learning\n",
    "# rates and regularization strengths; if you are careful you should be able to\n",
    "# get a classification accuracy of over 0.35 on the validation set.\n",
    "from cs231n.classifiers import Softmax\n",
    "results = {}\n",
    "best_val = -1\n",
    "best_softmax = None\n",
    "learning_rates = [1e-7, 5e-7]\n",
    "regularization_strengths = [2.5e4, 5e4]\n",
    "\n",
    "################################################################################\n",
    "# TODO:                                                                        #\n",
    "# Use the validation set to set the learning rate and regularization strength. #\n",
    "# This should be identical to the validation that you did for the SVM; save    #\n",
    "# the best trained softmax classifer in best_softmax.                          #\n",
    "################################################################################\n",
    "# Your code\n",
    "for lr in learning_rates:\n",
    "    for reg in regularization_strengths:\n",
    "        softmax = Softmax()\n",
    "        loss = softmax.train(X_train, y_train, learning_rate=lr, reg=reg,\n",
    "                      num_iters=2000, verbose=True)\n",
    "        y_train_pred = softmax.predict(X_train)\n",
    "        y_val_pred = softmax.predict(X_val)\n",
    "        ans = (np.mean(y_train == y_train_pred), np.mean(y_val == y_val_pred))\n",
    "        results[(lr, reg)] = ans\n",
    "        if ans[1] > best_val:\n",
    "            best_val = ans[1]\n",
    "            best_softmax = softmax\n",
    "################################################################################\n",
    "#                              END OF YOUR CODE                                #\n",
    "################################################################################\n",
    "    \n",
    "# Print out results.\n",
    "for lr, reg in sorted(results):\n",
    "    train_accuracy, val_accuracy = results[(lr, reg)]\n",
    "    print('lr %e reg %e train accuracy: %f val accuracy: %f' % (\n",
    "                lr, reg, train_accuracy, val_accuracy))\n",
    "    \n",
    "print('best validation accuracy achieved during cross-validation: %f' % best_val)"
   ]
  },
  {
   "cell_type": "code",
   "execution_count": 64,
   "metadata": {},
   "outputs": [
    {
     "name": "stdout",
     "output_type": "stream",
     "text": [
      "softmax on raw pixels final test set accuracy: 0.344000\n"
     ]
    }
   ],
   "source": [
    "# evaluate on test set\n",
    "# Evaluate the best softmax on test set\n",
    "y_test_pred = best_softmax.predict(X_test)\n",
    "test_accuracy = np.mean(y_test == y_test_pred)\n",
    "print('softmax on raw pixels final test set accuracy: %f' % (test_accuracy, ))"
   ]
  },
  {
   "cell_type": "markdown",
   "metadata": {},
   "source": [
    "**Inline Question** - *True or False*\n",
    "\n",
    "It's possible to add a new datapoint to a training set that would leave the SVM loss unchanged, but this is not the case with the Softmax classifier loss.\n",
    "\n",
    "*Your answer*:  \n",
    "    True\n",
    "\n",
    "*Your explanation*:  \n",
    "    first half is correct, as long as s[j] - s[y[i]] + 1 <= 0, the loss and grad will be 0\n",
    "    second half is correct, no matter what data is sent to softmax, the result must be in range (0, 1), exclusive 0, 1; which means, the loss will never be 0, so is the grad."
   ]
  },
  {
   "cell_type": "code",
   "execution_count": 65,
   "metadata": {},
   "outputs": [
    {
     "data": {
      "image/png": "[encoded data removed]",
      "text/plain": [
       "<Figure size 432x288 with 10 Axes>"
      ]
     },
     "metadata": {},
     "output_type": "display_data"
    }
   ],
   "source": [
    "# Visualize the learned weights for each class\n",
    "w = best_softmax.W[:-1,:] # strip out the bias\n",
    "w = w.reshape(32, 32, 3, 10)\n",
    "\n",
    "w_min, w_max = np.min(w), np.max(w)\n",
    "\n",
    "classes = ['plane', 'car', 'bird', 'cat', 'deer', 'dog', 'frog', 'horse', 'ship', 'truck']\n",
    "for i in range(10):\n",
    "    plt.subplot(2, 5, i + 1)\n",
    "    \n",
    "    # Rescale the weights to be between 0 and 255\n",
    "    wimg = 255.0 * (w[:, :, :, i].squeeze() - w_min) / (w_max - w_min)\n",
    "    plt.imshow(wimg.astype('uint8'))\n",
    "    plt.axis('off')\n",
    "    plt.title(classes[i])"
   ]
  },
  {
   "cell_type": "code",
   "execution_count": null,
   "metadata": {},
   "outputs": [],
   "source": []
  }
 ],
 "metadata": {
  "kernelspec": {
   "display_name": "Python 3",
   "language": "python",
   "name": "python3"
  },
  "language_info": {
   "codemirror_mode": {
    "name": "ipython",
    "version": 3
   },
   "file_extension": ".py",
   "mimetype": "text/x-python",
   "name": "python",
   "nbconvert_exporter": "python",
   "pygments_lexer": "ipython3",
   "version": "3.6.5"
  }
 },
 "nbformat": 4,
 "nbformat_minor": 1
}
